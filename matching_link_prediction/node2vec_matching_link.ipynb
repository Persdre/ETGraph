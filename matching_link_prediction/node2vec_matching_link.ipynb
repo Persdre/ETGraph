{
 "cells": [
  {
   "cell_type": "code",
   "execution_count": null,
   "metadata": {},
   "outputs": [],
   "source": [
    "import pandas as pd\n",
    "import csv\n",
    "import numpy as np\n",
    "import pickle as pkl"
   ]
  },
  {
   "cell_type": "code",
   "execution_count": null,
   "metadata": {},
   "outputs": [],
   "source": [
    "with open('positive_test_edge_indices.pkl', 'rb') as f:\n",
    "    positive_test_edge_indices = pkl.load(f)\n",
    "    \n",
    "with open('positive_train_edge_indices.pkl', 'rb') as f:\n",
    "    positive_train_edge_indices = pkl.load(f)\n",
    "    \n",
    "with open('positive_validation_edge_indices.pkl', 'rb') as f:\n",
    "    positive_validation_edge_indices = pkl.load(f)\n",
    "    \n",
    "with open('negative_test_edge_indices.pkl', 'rb') as f:\n",
    "    negative_test_edge_indices = pkl.load(f)\n",
    "    \n",
    "with open('negative_train_edge_indices.pkl', 'rb') as f:\n",
    "    negative_train_edge_indices = pkl.load(f)\n",
    "    \n",
    "with open('negative_validation_edge_indices.pkl', 'rb') as f:\n",
    "    negative_validation_edge_indices = pkl.load(f)"
   ]
  },
  {
   "cell_type": "code",
   "execution_count": null,
   "metadata": {},
   "outputs": [],
   "source": [
    "with open('node2vec_embeddings_for_matching_lp_4.pkl', 'rb') as f:\n",
    "    embeddings = pkl.load(f)"
   ]
  },
  {
   "cell_type": "code",
   "execution_count": null,
   "metadata": {},
   "outputs": [],
   "source": [
    "# print some examples of embeddings\n",
    "print(embeddings[0])"
   ]
  },
  {
   "cell_type": "code",
   "execution_count": null,
   "metadata": {},
   "outputs": [],
   "source": [
    "# define generate_edge_embeddings function\n",
    "import torch\n",
    "def generate_edge_embeddings(h, edges):\n",
    "    # Extract the source and target node indices from the edges\n",
    "    src, dst = edges[0], edges[1]\n",
    "    \n",
    "    # Use the node indices to get the corresponding node embeddings\n",
    "    src_embed = h[src]\n",
    "    dst_embed = h[dst]\n",
    "\n",
    "    # Concatenate the source and target node embeddings\n",
    "    edge_embs = torch.cat([src_embed, dst_embed], dim=1)\n",
    "    \n",
    "    edge_embs = edge_embs.detach().cpu()\n",
    "\n",
    "    return edge_embs"
   ]
  },
  {
   "cell_type": "code",
   "execution_count": null,
   "metadata": {},
   "outputs": [],
   "source": [
    "# generate edge embeddings from node embeddings, according to positive_train_edge_indices, positive_test_edge_indices, negative_train_edge_indices, negative_test_edge_indices\n",
    "pos_train_edge_embeddings = generate_edge_embeddings(embeddings, positive_train_edge_indices)\n",
    "neg_train_edge_embeddings = generate_edge_embeddings(embeddings, negative_train_edge_indices)"
   ]
  },
  {
   "cell_type": "code",
   "execution_count": null,
   "metadata": {},
   "outputs": [],
   "source": [
    "# print some examples of train_edge_embeddings\n",
    "train_edge_embeddings = torch.cat([pos_train_edge_embeddings, neg_train_edge_embeddings], dim=0)\n",
    "train_edge_labels = torch.cat([torch.ones(pos_train_edge_embeddings.shape[0]), torch.zeros(neg_train_edge_embeddings.shape[0])], dim=0)"
   ]
  },
  {
   "cell_type": "code",
   "execution_count": null,
   "metadata": {},
   "outputs": [],
   "source": [
    "# use logistic regression to train a classifier\n",
    "from sklearn.linear_model import LogisticRegression\n",
    "clf = LogisticRegression().fit(train_edge_embeddings, train_edge_labels)"
   ]
  },
  {
   "cell_type": "code",
   "execution_count": null,
   "metadata": {},
   "outputs": [],
   "source": [
    "pos_test_edge_embeddings = generate_edge_embeddings(embeddings, positive_test_edge_indices)\n",
    "neg_test_edge_embeddings = generate_edge_embeddings(embeddings, negative_test_edge_indices)\n",
    "test_edge_embeddings = torch.cat([pos_test_edge_embeddings, neg_test_edge_embeddings], dim=0)\n",
    "test_edge_labels = torch.cat([torch.ones(pos_test_edge_embeddings.shape[0]), torch.zeros(neg_test_edge_embeddings.shape[0])], dim=0)"
   ]
  },
  {
   "cell_type": "code",
   "execution_count": null,
   "metadata": {},
   "outputs": [],
   "source": [
    "# use clf to predict, print auc-roc, f1, precision, recall, and accuracy\n",
    "from sklearn.metrics import roc_auc_score, f1_score, precision_score, recall_score, accuracy_score\n",
    "y_pred = clf.predict(test_edge_embeddings)\n",
    "\n",
    "print('auc-roc: ', roc_auc_score(test_edge_labels, y_pred))\n",
    "print('f1: ', f1_score(test_edge_labels, y_pred))\n",
    "print('precision: ', precision_score(test_edge_labels, y_pred))\n",
    "print('recall: ', recall_score(test_edge_labels, y_pred))\n",
    "print('accuracy: ', accuracy_score(test_edge_labels, y_pred))"
   ]
  }
 ],
 "metadata": {
  "kernelspec": {
   "display_name": "pytorch",
   "language": "python",
   "name": "python3"
  },
  "language_info": {
   "codemirror_mode": {
    "name": "ipython",
    "version": 3
   },
   "file_extension": ".py",
   "mimetype": "text/x-python",
   "name": "python",
   "nbconvert_exporter": "python",
   "pygments_lexer": "ipython3",
   "version": "3.9.16"
  },
  "orig_nbformat": 4
 },
 "nbformat": 4,
 "nbformat_minor": 2
}
